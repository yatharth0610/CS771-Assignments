{
 "cells": [
  {
   "cell_type": "markdown",
   "metadata": {},
   "source": [
    "# Assignment-2"
   ]
  },
  {
   "cell_type": "markdown",
   "metadata": {},
   "source": [
    "## Q-1"
   ]
  },
  {
   "cell_type": "code",
   "execution_count": 39,
   "metadata": {},
   "outputs": [],
   "source": [
    "#importing necessary libraries\n",
    "import numpy as np\n",
    "import timeit\n",
    "import matplotlib.pyplot as plt"
   ]
  },
  {
   "cell_type": "markdown",
   "metadata": {},
   "source": [
    "The gradient descent function mentioned in the question. "
   ]
  },
  {
   "cell_type": "code",
   "execution_count": 40,
   "metadata": {},
   "outputs": [],
   "source": [
    "def gradient_descent(gradient, init_, learn_rate, n_iter=50, tol=1e-06):\n",
    "    x = init_\n",
    "    for _ in range(n_iter):\n",
    "        #calculate gradient and the change in value of paramters (denoted by delta)\n",
    "        delta = -learn_rate*gradient(x)\n",
    "        #if the tolerance of all paramters is within tol, do not need to complete all the iterations\n",
    "        if np.all(np.abs(delta) <= tol):\n",
    "            break\n",
    "        #update parameters\n",
    "        x+=delta\n",
    "    return round(x*1000)/1000"
   ]
  },
  {
   "cell_type": "markdown",
   "metadata": {},
   "source": [
    "## Part a (i)\n",
    "Gradient descent on $x^2+3x+4$. The derivative of $x^2+3x+4$ is $2x+3$, which is passed as arguement of gradient desecent function. Learn rate set to 0.02 and 1000 iterations."
   ]
  },
  {
   "cell_type": "code",
   "execution_count": 41,
   "metadata": {},
   "outputs": [
    {
     "name": "stdout",
     "output_type": "stream",
     "text": [
      "The minima is at -1.5 when the initialised value is 1\n",
      "The minima is at -1.5 when the initialised value is -1\n",
      "The minima is at -1.5 when the initialised value is 100\n",
      "The minima is at -1.5 when the initialised value is 1000\n",
      "The minima is at -1.5 when the initialised value is -100\n",
      "The minima is at -1.5 when the initialised value is -1000\n"
     ]
    }
   ],
   "source": [
    "initial_values = [1,-1,100,1000,-100,-1000]\n",
    "for val in initial_values:\n",
    "    argmin1 = gradient_descent(gradient=lambda v: 2 * v + 3, init_=val, n_iter = 1000, learn_rate=0.02)\n",
    "    print(\"The minima is at \"+ str(argmin1)+ \" when the initialised value is \"+str(val))"
   ]
  },
  {
   "cell_type": "markdown",
   "metadata": {},
   "source": [
    "Conclusion: Some random initalisations give the same minima. The function is very simple quadratic function $ax^2+bx+c$ with one optimum at $\\frac{-b}{2a}$ and our findings are consistent with this.\n",
    "\n",
    "Final answer : Minima is at x = -1.5"
   ]
  },
  {
   "cell_type": "markdown",
   "metadata": {},
   "source": [
    "## Part a (ii)\n",
    "Gradient descent on $x^4-3x^2+2x$. The derivative of $x^4-3x^2+2x$ is $4x^3-6x+2$, which is passed as arguement of gradient desecent function. Learn rate set to 0.002 (a small learn rate because the derivatives are large and we do not want huge steps) and 1000 iterations."
   ]
  },
  {
   "cell_type": "code",
   "execution_count": 42,
   "metadata": {},
   "outputs": [
    {
     "data": {
      "image/png": "[encoded data removed]",
      "text/plain": [
       "<matplotlib.figure.Figure at 0x7f448cadf550>"
      ]
     },
     "metadata": {},
     "output_type": "display_data"
    }
   ],
   "source": [
    "x = np.linspace(-3,3,1000)\n",
    "\n",
    "# the function, which is y = x^2 here\n",
    "y = x*x*x*x - 3*x*x + 2*x\n",
    "\n",
    "# setting the axes at the centre\n",
    "fig = plt.figure()\n",
    "\n",
    "# plot the function\n",
    "plt.plot(x,y, 'r')\n",
    "\n",
    "# show the plot\n",
    "plt.show()"
   ]
  },
  {
   "cell_type": "code",
   "execution_count": 43,
   "metadata": {},
   "outputs": [
    {
     "name": "stdout",
     "output_type": "stream",
     "text": [
      "The minima is at -1.366 when the initialised value is 0\n",
      "The minima is at 1.0 when the initialised value is 1\n",
      "The minima is at 1.0 when the initialised value is 2\n",
      "The minima is at 1.0 when the initialised value is 3\n",
      "The minima is at 1.0 when the initialised value is 4\n",
      "The minima is at 1.0 when the initialised value is 5\n",
      "The minima is at 1.0 when the initialised value is 6\n",
      "The minima is at 1.0 when the initialised value is 7\n",
      "The minima is at 1.0 when the initialised value is 8\n",
      "The minima is at 1.0 when the initialised value is 9\n"
     ]
    }
   ],
   "source": [
    "for value in range(10):\n",
    "    argmin2 = gradient_descent(gradient=lambda v: 4*v*v*v - 6*v + 2, init_=value, learn_rate=0.002,n_iter=1000)\n",
    "    print(\"The minima is at \"+ str(argmin2)+ \" when the initialised value is \"+str(value))"
   ]
  },
  {
   "cell_type": "markdown",
   "metadata": {},
   "source": [
    "Conclusion : 0 gives another minima as compared to 1-9\n",
    "Check for x = 1. Derivative at x= 1 is 4-6+2 = 0 (one of the minimas). Need to check whether it is global or local"
   ]
  },
  {
   "cell_type": "code",
   "execution_count": 44,
   "metadata": {},
   "outputs": [
    {
     "name": "stdout",
     "output_type": "stream",
     "text": [
      "The minima is at -1.366 when the initialised value is 0\n",
      "The minima is at -1.366 when the initialised value is -1\n",
      "The minima is at -1.366 when the initialised value is -2\n",
      "The minima is at -1.366 when the initialised value is -3\n",
      "The minima is at -1.366 when the initialised value is -4\n",
      "The minima is at -1.366 when the initialised value is -5\n",
      "The minima is at -1.366 when the initialised value is -6\n",
      "The minima is at -1.366 when the initialised value is -7\n",
      "The minima is at -1.366 when the initialised value is -8\n",
      "The minima is at -1.366 when the initialised value is -9\n"
     ]
    }
   ],
   "source": [
    "for value in range(10):\n",
    "    argmin2 = gradient_descent(gradient=lambda v: 4*v*v*v - 6*v + 2, init_=-value, learn_rate=0.002,n_iter=1000)\n",
    "    print(\"The minima is at \"+ str(argmin2)+ \" when the initialised value is \"+str(-value))"
   ]
  },
  {
   "cell_type": "markdown",
   "metadata": {},
   "source": [
    "-9 to 0 give the same minima."
   ]
  },
  {
   "cell_type": "code",
   "execution_count": 45,
   "metadata": {},
   "outputs": [],
   "source": [
    "def func(x):\n",
    "    return x*x*x*x-3*x*x+2*x"
   ]
  },
  {
   "cell_type": "code",
   "execution_count": 46,
   "metadata": {},
   "outputs": [
    {
     "name": "stdout",
     "output_type": "stream",
     "text": [
      "-4.848076206064\n",
      "0\n"
     ]
    }
   ],
   "source": [
    "print(func(-1.366))\n",
    "print(func(1))"
   ]
  },
  {
   "cell_type": "code",
   "execution_count": 47,
   "metadata": {},
   "outputs": [
    {
     "name": "stdout",
     "output_type": "stream",
     "text": [
      "-1.396\n"
     ]
    }
   ],
   "source": [
    "#Trying at a large negative value (the learn rate is kept very small because the derivative is very large)\n",
    "argmin2 = gradient_descent(gradient=lambda v: 4*v*v*v - 6*v + 2, init_=-500, learn_rate=0.000002,n_iter=2000000)\n",
    "print(argmin2)"
   ]
  },
  {
   "cell_type": "markdown",
   "metadata": {},
   "source": [
    "In conclusion, there are 2 minimas:\n",
    "    1 global at x = -1.366,\n",
    "    1 local at x = 1"
   ]
  },
  {
   "cell_type": "markdown",
   "metadata": {},
   "source": [
    "## Part-b"
   ]
  },
  {
   "cell_type": "code",
   "execution_count": 48,
   "metadata": {},
   "outputs": [],
   "source": [
    "import time"
   ]
  },
  {
   "cell_type": "code",
   "execution_count": 49,
   "metadata": {},
   "outputs": [],
   "source": [
    "def linear_regression_gradient(a,b,X,y):\n",
    "    n = len(y)\n",
    "    \n",
    "    #calculate precited values considering weights to be w\n",
    "    predicted = a*X+b\n",
    "    \n",
    "    #error in prediction\n",
    "    error = y-predicted\n",
    "    \n",
    "    gradient_a = sum(error*X)\n",
    "    gradient_b  = sum(error)\n",
    "    \n",
    "    #return average gradient\n",
    "    return (-2*gradient_a/n,-2*gradient_b/n)"
   ]
  },
  {
   "cell_type": "markdown",
   "metadata": {},
   "source": [
    "## Part-c"
   ]
  },
  {
   "cell_type": "code",
   "execution_count": 50,
   "metadata": {},
   "outputs": [],
   "source": [
    "def gradient_descent(X,y,init_, learn_rate, n_iter=1000, tol=1e-06):\n",
    "    begin = time.time()\n",
    "    a = init_[0]\n",
    "    b = init_[1]\n",
    "    for _ in range(n_iter):\n",
    "        (delta_a,delta_b) = linear_regression_gradient(a,b,X,y)\n",
    "        delta_a*= -learn_rate\n",
    "        delta_b*= -learn_rate\n",
    "        if abs(delta_b)<=tol and abs(delta_a)<=tol:\n",
    "            break\n",
    "        a+=delta_a\n",
    "        b+=delta_b\n",
    "    end = time.time()\n",
    "    print(end-begin)\n",
    "    return np.round_(np.array([a,b]), decimals = 3)"
   ]
  },
  {
   "cell_type": "code",
   "execution_count": 51,
   "metadata": {},
   "outputs": [],
   "source": [
    "np.random.seed(0)\n",
    "X = 2.5* np.random.randn(10000)+1.5\n",
    "res = 1.5* np.random.randn(10000)\n",
    "y = 2+0.3*X+res"
   ]
  },
  {
   "cell_type": "code",
   "execution_count": 52,
   "metadata": {},
   "outputs": [
    {
     "name": "stdout",
     "output_type": "stream",
     "text": [
      "2.4164843559265137\n",
      "[0.295 2.023]\n"
     ]
    }
   ],
   "source": [
    "ans = gradient_descent(X,y,init_=np.zeros(2), learn_rate=0.02)\n",
    "print(ans)"
   ]
  },
  {
   "cell_type": "markdown",
   "metadata": {},
   "source": [
    "## Part-d"
   ]
  },
  {
   "cell_type": "code",
   "execution_count": 53,
   "metadata": {},
   "outputs": [],
   "source": [
    "def linear_regression_gradient(a,b,X,y):\n",
    "    n = len(y)\n",
    "    \n",
    "    #calculate precited values considering weights to be w\n",
    "    predicted = a*X+b\n",
    "    \n",
    "    #error in prediction\n",
    "    error = y-predicted\n",
    "    \n",
    "    gradient_a = sum(error*X)\n",
    "    gradient_b  = sum(error)\n",
    "    \n",
    "    #return average gradient\n",
    "    return (-2*gradient_a/n,-2*gradient_b/n)"
   ]
  },
  {
   "cell_type": "code",
   "execution_count": null,
   "metadata": {},
   "outputs": [],
   "source": []
  },
  {
   "cell_type": "code",
   "execution_count": 54,
   "metadata": {},
   "outputs": [],
   "source": [
    "def batch_gradient_descent(X,y,init_, learn_rate, n_iter=4000, tol=1e-06, batch_size = 30):\n",
    "    begin = time.time()\n",
    "    a = init_[0]\n",
    "    b = init_[1]\n",
    "    n = len(y)\n",
    "    for _ in range(n_iter):\n",
    "        random_indices = np.random.choice(n, size=batch_size, replace=False)\n",
    "        (delta_a,delta_b) = linear_regression_gradient(a,b,X[random_indices],y[random_indices])\n",
    "        delta_a*= -learn_rate\n",
    "        delta_b*= -learn_rate\n",
    "        if abs(delta_b)<=tol and abs(delta_a)<=tol:\n",
    "            break\n",
    "        a+=delta_a\n",
    "        b+=delta_b\n",
    "    end = time.time()\n",
    "    print(end-begin)\n",
    "    return np.round_(np.array([a,b]), decimals = 3)"
   ]
  },
  {
   "cell_type": "code",
   "execution_count": 55,
   "metadata": {},
   "outputs": [
    {
     "name": "stdout",
     "output_type": "stream",
     "text": [
      "1.7095179557800293\n",
      "[0.31  2.039]\n"
     ]
    }
   ],
   "source": [
    "ans = batch_gradient_descent(X,y,init_=np.zeros(2), learn_rate=0.02)\n",
    "print(ans)"
   ]
  },
  {
   "cell_type": "markdown",
   "metadata": {},
   "source": [
    "## Part-e"
   ]
  },
  {
   "cell_type": "code",
   "execution_count": 56,
   "metadata": {},
   "outputs": [
    {
     "name": "stdout",
     "output_type": "stream",
     "text": [
      "1.725426435470581\n",
      "Batch size: 10 optimum weights: 0.305 and 2.005\n",
      "2.077805519104004\n",
      "Batch size: 30 optimum weights: 0.279 and 2.014\n",
      "1.8384864330291748\n",
      "Batch size: 50 optimum weights: 0.296 and 2.035\n",
      "2.1734752655029297\n",
      "Batch size: 100 optimum weights: 0.314 and 2.01\n",
      "3.2683160305023193\n",
      "Batch size: 500 optimum weights: 0.299 and 2.028\n",
      "4.4966301918029785\n",
      "Batch size: 1000 optimum weights: 0.313 and 2.024\n"
     ]
    }
   ],
   "source": [
    "batch_sizes = [10,30,50,100,500,1000]\n",
    "for size in batch_sizes:\n",
    "    ans = batch_gradient_descent(X,y,init_=np.zeros(2), learn_rate=0.02, batch_size=size)\n",
    "    print(\"Batch size: \"+str(size)+\" optimum weights: \"+ str(ans[0]) + \" and \" + str(ans[1]))"
   ]
  },
  {
   "cell_type": "markdown",
   "metadata": {},
   "source": []
  },
  {
   "cell_type": "markdown",
   "metadata": {},
   "source": []
  },
  {
   "cell_type": "code",
   "execution_count": null,
   "metadata": {},
   "outputs": [],
   "source": []
  }
 ],
 "metadata": {
  "kernelspec": {
   "display_name": "Python 3",
   "language": "python",
   "name": "python3"
  },
  "language_info": {
   "codemirror_mode": {
    "name": "ipython",
    "version": 3
   },
   "file_extension": ".py",
   "mimetype": "text/x-python",
   "name": "python",
   "nbconvert_exporter": "python",
   "pygments_lexer": "ipython3",
   "version": "3.6.9"
  }
 },
 "nbformat": 4,
 "nbformat_minor": 5
}
